{
 "cells": [
  {
   "cell_type": "code",
   "execution_count": 5,
   "id": "663bb858",
   "metadata": {},
   "outputs": [
    {
     "name": "stdout",
     "output_type": "stream",
     "text": [
      "4\n"
     ]
    }
   ],
   "source": [
    "song = '산토끼 토끼야. 어디를 가느냐. 깡충깡충 뛰면서, 어디를 가느냐. 산 고개 고개를 나 혼자 넘어서 토실토실 알밤을 주워 올테야'\n",
    "\n",
    "def count_char(song, char):\n",
    "    cnt = 0\n",
    "    for i in song:\n",
    "        if i == char:\n",
    "            cnt +=1\n",
    "    return cnt\n",
    "print(count_char(song, '토'))"
   ]
  },
  {
   "cell_type": "code",
   "execution_count": 2,
   "id": "a79e067c",
   "metadata": {},
   "outputs": [],
   "source": [
    "def get_char_count(lyric, char):\n",
    "    count = 0\n",
    "    for i in lyric:\n",
    "        if i == char:\n",
    "            count += 1\n",
    "    return count"
   ]
  },
  {
   "cell_type": "code",
   "execution_count": 3,
   "id": "02483e5a",
   "metadata": {},
   "outputs": [
    {
     "data": {
      "text/plain": [
       "4"
      ]
     },
     "execution_count": 3,
     "metadata": {},
     "output_type": "execute_result"
    }
   ],
   "source": [
    "lyric = '''산토끼 토끼야. 어디를 가느냐. 깡충깡충 뛰면서 어디를 가느냐. 산 고개 고개를 나 혼자 넘어서 토실토실 알밤을 주워 올테야'''\n",
    "get_char_count(lyric, '토')"
   ]
  },
  {
   "cell_type": "code",
   "execution_count": 9,
   "id": "190f096f",
   "metadata": {},
   "outputs": [
    {
     "name": "stdout",
     "output_type": "stream",
     "text": [
      "0\n",
      "따뜻한 아메리카노\n"
     ]
    }
   ],
   "source": [
    "# 기온이 0도 보다 높으면 아이스아메리카노를 출력, 그렇지 않으면 따뜻한 아메리카노 출력\n",
    "\n",
    "degree = int(input())\n",
    "if degree > 0:\n",
    "    print('아이스 아메리카노')\n",
    "else:\n",
    "    print('따뜻한 아메리카노')"
   ]
  },
  {
   "cell_type": "code",
   "execution_count": 13,
   "id": "041f5b76",
   "metadata": {},
   "outputs": [
    {
     "name": "stdout",
     "output_type": "stream",
     "text": [
      "[85, 95, 75, 70, 90, 100, 95, 85, 80, 85]\n"
     ]
    }
   ],
   "source": [
    "# 1학년 2반의 시험 성적은 다음과 같다\n",
    "# [80, 90, 70, 65, 85, 95, 90, 80, 75, 80]\n",
    "# 시험 문제 중, 한 문제가 잘못 출제되어 모두 5점씩 추가 점수를 받도록 조치\n",
    "# 변경후 점수를 반환하는 함수\n",
    "\n",
    "scores = [80, 90, 70, 65, 85, 95, 90, 80, 75, 80]\n",
    "\n",
    "def change_score(scores):\n",
    "    new_score = []\n",
    "    for i in scores:\n",
    "        new_score.append(i+5)\n",
    "    return new_score\n",
    "\n",
    "print(change_score(scores))"
   ]
  },
  {
   "cell_type": "code",
   "execution_count": 16,
   "id": "4e0bdef9",
   "metadata": {},
   "outputs": [
    {
     "name": "stdout",
     "output_type": "stream",
     "text": [
      "NumPy\n",
      "NUMPY\n",
      "numpy\n"
     ]
    }
   ],
   "source": [
    "# 영어단어 또는 문장을 인자로 받아서 대문자와 소문자로 출력하는 함수\n",
    "\n",
    "def upper_word(word):\n",
    "    new = word.upper()\n",
    "    return new\n",
    "def lower_word(word):\n",
    "    new = word.lower()\n",
    "    return new\n",
    "\n",
    "word = input()\n",
    "print(upper_word(word))\n",
    "print(lower_word(word))"
   ]
  },
  {
   "cell_type": "code",
   "execution_count": 17,
   "id": "1d103f9c",
   "metadata": {},
   "outputs": [
    {
     "name": "stdout",
     "output_type": "stream",
     "text": [
      "3\n",
      "4\n",
      "+\n"
     ]
    },
    {
     "data": {
      "text/plain": [
       "7"
      ]
     },
     "execution_count": 17,
     "metadata": {},
     "output_type": "execute_result"
    }
   ],
   "source": [
    "# 두 수와 연산자를 입력받아 사칙연산 결과를 출력하는 계산기\n",
    "\n",
    "def cal(a, b, c):\n",
    "    if c == '+':\n",
    "        return a + b\n",
    "    elif c == '-':\n",
    "        return a-b\n",
    "    elif c == '*':\n",
    "        return a * b\n",
    "    else:\n",
    "        return a / b\n",
    "    \n",
    "a = int(input())\n",
    "b = int(input())\n",
    "c = input()\n",
    "\n",
    "cal(a, b, c)"
   ]
  },
  {
   "cell_type": "code",
   "execution_count": 18,
   "id": "354a8526",
   "metadata": {},
   "outputs": [
    {
     "data": {
      "text/plain": [
       "6"
      ]
     },
     "execution_count": 18,
     "metadata": {},
     "output_type": "execute_result"
    }
   ],
   "source": [
    "# 입력받은 인자를 모두 더하는 함수\n",
    "\n",
    "def sum(*args):\n",
    "    result = 0\n",
    "    for num in args:\n",
    "        result += num\n",
    "    return result\n",
    "\n",
    "sum(1,2,3)"
   ]
  },
  {
   "cell_type": "code",
   "execution_count": 21,
   "id": "d6a12ce6",
   "metadata": {},
   "outputs": [
    {
     "data": {
      "text/plain": [
       "54.9"
      ]
     },
     "execution_count": 21,
     "metadata": {},
     "output_type": "execute_result"
    }
   ],
   "source": [
    "# 사용자로부터 키와 성별을 입력받아서 권장 체중을 화면에 출력하는 함수\n",
    "\n",
    "def weight(gender, height):\n",
    "    if gender == '남성':\n",
    "        result = (height - 100)\n",
    "    else:\n",
    "        result = (height - 100) * 0.9\n",
    "    return result\n",
    "\n",
    "weight('여성', 161)"
   ]
  },
  {
   "cell_type": "code",
   "execution_count": 24,
   "id": "cee8d857",
   "metadata": {},
   "outputs": [
    {
     "data": {
      "text/plain": [
       "63.0"
      ]
     },
     "execution_count": 24,
     "metadata": {},
     "output_type": "execute_result"
    }
   ],
   "source": [
    "# 사용자로부터 키와 성별을 입력받아서 권장 체중을 화면에 출력하는 '람다식'을 작성\n",
    "\n",
    "weight2 = lambda gender, height : (height - 100) * 0.9 if gender=='여성' else (height-100)\n",
    "weight2('여성', 170)"
   ]
  },
  {
   "cell_type": "code",
   "execution_count": 25,
   "id": "b4868748",
   "metadata": {},
   "outputs": [],
   "source": [
    "# abc.txt라는 파일을 쓰기모드('w')로 열고 write()함수를 사용하여 문장('ABCDEFG')를 작성\n",
    "\n",
    "open_file = open('abc.txt', 'w')\n",
    "open_file.write('ABCDEFG')\n",
    "open_file.close()"
   ]
  },
  {
   "cell_type": "code",
   "execution_count": 26,
   "id": "aa7cb90f",
   "metadata": {},
   "outputs": [
    {
     "name": "stdout",
     "output_type": "stream",
     "text": [
      "ABCDEFG\n"
     ]
    }
   ],
   "source": [
    "# 위에서 만든 파일을 읽기모드로 열고 read()함수를 사용하여 문장을 읽어들여 화면에 출력\n",
    "\n",
    "f = open('abc.txt', 'r')\n",
    "print(f.read())\n",
    "f.close()"
   ]
  },
  {
   "cell_type": "code",
   "execution_count": 27,
   "id": "169786c8",
   "metadata": {},
   "outputs": [
    {
     "name": "stdout",
     "output_type": "stream",
     "text": [
      "ABCDEFG\n"
     ]
    }
   ],
   "source": [
    "with open('abc.txt', 'r') as f:\n",
    "    print(f.read())"
   ]
  },
  {
   "cell_type": "code",
   "execution_count": null,
   "id": "3c574959",
   "metadata": {},
   "outputs": [],
   "source": []
  },
  {
   "cell_type": "code",
   "execution_count": null,
   "id": "cb8269df",
   "metadata": {},
   "outputs": [],
   "source": []
  }
 ],
 "metadata": {
  "kernelspec": {
   "display_name": "Python 3 (ipykernel)",
   "language": "python",
   "name": "python3"
  },
  "language_info": {
   "codemirror_mode": {
    "name": "ipython",
    "version": 3
   },
   "file_extension": ".py",
   "mimetype": "text/x-python",
   "name": "python",
   "nbconvert_exporter": "python",
   "pygments_lexer": "ipython3",
   "version": "3.9.12"
  }
 },
 "nbformat": 4,
 "nbformat_minor": 5
}
