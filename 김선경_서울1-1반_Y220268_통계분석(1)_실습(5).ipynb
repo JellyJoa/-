{
 "cells": [
  {
   "cell_type": "markdown",
   "id": "ca993c12",
   "metadata": {},
   "source": [
    "# 5"
   ]
  },
  {
   "cell_type": "code",
   "execution_count": 31,
   "id": "ac515a08",
   "metadata": {},
   "outputs": [],
   "source": [
    "import os\n",
    "import warnings\n",
    "warnings.simplefilter(action='ignore', category=FutureWarning)\n",
    "\n",
    "import pandas as pd\n",
    "import numpy as np\n",
    "import math\n",
    "from scipy import stats\n",
    "\n",
    "import matplotlib.pyplot as plt\n",
    "import seaborn as sns\n",
    "%matplotlib inline\n",
    "\n",
    "if os.name=='nt':\n",
    "    font_family = 'Malgun Gothic'\n",
    "else:\n",
    "    font_family = 'AppleGothic'\n",
    "    \n",
    "sns.set(font=font_family, rc={'axes.unicode_minus' : False})"
   ]
  },
  {
   "cell_type": "code",
   "execution_count": 32,
   "id": "555bc2d5",
   "metadata": {},
   "outputs": [],
   "source": [
    "np.random.seed(10)\n",
    "\n",
    "math_score = pd.DataFrame(np.random.randint(25,101,size=500), columns=['점수'])"
   ]
  },
  {
   "cell_type": "code",
   "execution_count": 33,
   "id": "b9791eb5",
   "metadata": {},
   "outputs": [
    {
     "data": {
      "text/html": [
       "<div>\n",
       "<style scoped>\n",
       "    .dataframe tbody tr th:only-of-type {\n",
       "        vertical-align: middle;\n",
       "    }\n",
       "\n",
       "    .dataframe tbody tr th {\n",
       "        vertical-align: top;\n",
       "    }\n",
       "\n",
       "    .dataframe thead th {\n",
       "        text-align: right;\n",
       "    }\n",
       "</style>\n",
       "<table border=\"1\" class=\"dataframe\">\n",
       "  <thead>\n",
       "    <tr style=\"text-align: right;\">\n",
       "      <th></th>\n",
       "      <th>점수</th>\n",
       "    </tr>\n",
       "  </thead>\n",
       "  <tbody>\n",
       "    <tr>\n",
       "      <th>count</th>\n",
       "      <td>500.00000</td>\n",
       "    </tr>\n",
       "    <tr>\n",
       "      <th>mean</th>\n",
       "      <td>60.88200</td>\n",
       "    </tr>\n",
       "    <tr>\n",
       "      <th>std</th>\n",
       "      <td>22.31816</td>\n",
       "    </tr>\n",
       "    <tr>\n",
       "      <th>min</th>\n",
       "      <td>25.00000</td>\n",
       "    </tr>\n",
       "    <tr>\n",
       "      <th>25%</th>\n",
       "      <td>41.00000</td>\n",
       "    </tr>\n",
       "    <tr>\n",
       "      <th>50%</th>\n",
       "      <td>59.00000</td>\n",
       "    </tr>\n",
       "    <tr>\n",
       "      <th>75%</th>\n",
       "      <td>80.00000</td>\n",
       "    </tr>\n",
       "    <tr>\n",
       "      <th>max</th>\n",
       "      <td>100.00000</td>\n",
       "    </tr>\n",
       "  </tbody>\n",
       "</table>\n",
       "</div>"
      ],
      "text/plain": [
       "              점수\n",
       "count  500.00000\n",
       "mean    60.88200\n",
       "std     22.31816\n",
       "min     25.00000\n",
       "25%     41.00000\n",
       "50%     59.00000\n",
       "75%     80.00000\n",
       "max    100.00000"
      ]
     },
     "execution_count": 33,
     "metadata": {},
     "output_type": "execute_result"
    }
   ],
   "source": [
    "math_score.describe()"
   ]
  },
  {
   "cell_type": "code",
   "execution_count": 35,
   "id": "6820f5bf",
   "metadata": {},
   "outputs": [
    {
     "data": {
      "text/plain": [
       "array([34, 40, 89, 53, 54])"
      ]
     },
     "execution_count": 35,
     "metadata": {},
     "output_type": "execute_result"
    }
   ],
   "source": [
    "scores = np.array(math_score['점수'])\n",
    "scores[:5]"
   ]
  },
  {
   "cell_type": "code",
   "execution_count": 36,
   "id": "6b8fdd10",
   "metadata": {},
   "outputs": [
    {
     "name": "stdout",
     "output_type": "stream",
     "text": [
      "[ 76  73  37  57  47  48  35  28  79  57  40  31  44  52  87 100  33  64\n",
      "  25  41]\n",
      "52.7\n",
      "422.50999999999993\n",
      "20.555048041782825\n"
     ]
    }
   ],
   "source": [
    "sample = np.random.choice(scores, 20)\n",
    "print(sample)\n",
    "print(sample.mean())\n",
    "print(sample.var())\n",
    "print(sample.std())"
   ]
  },
  {
   "cell_type": "code",
   "execution_count": 37,
   "id": "6164b4d0",
   "metadata": {},
   "outputs": [
    {
     "name": "stdout",
     "output_type": "stream",
     "text": [
      "1 표본평균 51.8\n",
      "2 표본평균 64.05\n",
      "3 표본평균 63.0\n",
      "4 표본평균 71.3\n",
      "5 표본평균 67.9\n",
      "6 표본평균 63.75\n",
      "7 표본평균 56.2\n",
      "8 표본평균 66.3\n",
      "9 표본평균 54.7\n",
      "10 표본평균 65.2\n"
     ]
    }
   ],
   "source": [
    "for i in range(10):\n",
    "    sample1 = np.random.choice(scores, 20)\n",
    "    print(i+1, '표본평균', sample1.mean())"
   ]
  },
  {
   "cell_type": "code",
   "execution_count": 39,
   "id": "120fb892",
   "metadata": {},
   "outputs": [
    {
     "data": {
      "image/png": "[encoded data removed]",
      "text/plain": [
       "<Figure size 432x288 with 1 Axes>"
      ]
     },
     "metadata": {},
     "output_type": "display_data"
    }
   ],
   "source": [
    "plt.xlabel('score')\n",
    "plt.ylabel('relative frequency')\n",
    "plt.hist(scores, bins=100, range=(0,100), density=True)\n",
    "plt.xlim(20, 100)\n",
    "plt.show()"
   ]
  },
  {
   "cell_type": "code",
   "execution_count": 42,
   "id": "2d0bac8a",
   "metadata": {},
   "outputs": [
    {
     "data": {
      "image/png": "[encoded data removed]",
      "text/plain": [
       "<Figure size 432x288 with 1 Axes>"
      ]
     },
     "metadata": {},
     "output_type": "display_data"
    }
   ],
   "source": [
    "sample_score = np.random.choice(scores, 10000)\n",
    "\n",
    "plt.hist(sample_score, bins=100, range=(0,100),density=True)\n",
    "plt.xlim(20,100)\n",
    "plt.show()"
   ]
  },
  {
   "cell_type": "code",
   "execution_count": 43,
   "id": "bc2f31c0",
   "metadata": {},
   "outputs": [],
   "source": [
    "n = 20\n",
    "nSample = 100\n",
    "\n",
    "sample_mean = np.array([np.random.choice(scores, n,).mean() for i in range(nSample)])"
   ]
  },
  {
   "cell_type": "code",
   "execution_count": 44,
   "id": "fd5af65c",
   "metadata": {},
   "outputs": [
    {
     "data": {
      "text/plain": [
       "array([53.7 , 60.55, 55.2 , 62.5 , 60.9 , 63.5 , 58.5 , 60.9 , 68.05,\n",
       "       50.9 , 60.  , 69.7 , 54.7 , 56.55, 60.05, 61.1 , 62.4 , 62.6 ,\n",
       "       58.75, 55.6 , 53.8 , 58.9 , 53.45, 62.  , 62.4 , 49.4 , 63.45,\n",
       "       64.85, 57.7 , 65.3 , 60.4 , 62.85, 69.  , 58.4 , 57.6 , 54.5 ,\n",
       "       62.1 , 52.9 , 54.85, 69.8 , 65.1 , 56.4 , 60.8 , 62.6 , 66.75,\n",
       "       59.3 , 63.15, 55.9 , 55.9 , 65.2 , 54.15, 63.4 , 62.2 , 63.8 ,\n",
       "       58.7 , 62.05, 54.45, 61.15, 57.9 , 58.85, 64.45, 59.55, 52.7 ,\n",
       "       63.85, 70.1 , 62.65, 55.45, 62.25, 69.55, 64.55, 60.7 , 66.2 ,\n",
       "       59.8 , 61.55, 68.55, 47.45, 53.45, 66.4 , 64.5 , 57.45, 66.65,\n",
       "       64.2 , 58.  , 64.15, 62.1 , 57.45, 61.1 , 60.55, 61.75, 56.7 ,\n",
       "       48.9 , 64.  , 59.85, 61.2 , 63.9 , 66.15, 63.15, 68.7 , 53.35,\n",
       "       70.2 ])"
      ]
     },
     "execution_count": 44,
     "metadata": {},
     "output_type": "execute_result"
    }
   ],
   "source": [
    "sample_mean"
   ]
  },
  {
   "cell_type": "code",
   "execution_count": 50,
   "id": "4f006cd8",
   "metadata": {},
   "outputs": [
    {
     "name": "stdout",
     "output_type": "stream",
     "text": [
      "모평균 :  60.882\n",
      "표본평균의 평균 :  60.60749999999999\n",
      "모분산\\/\n",
      " :  24.8552038\n",
      "표본평균의 분산 :  4.969740310116817\n",
      "표본오차 :  4.985499353124018\n"
     ]
    }
   ],
   "source": [
    "print('모평균 : ', scores.mean())\n",
    "print('표본평균의 평균 : ', sample_mean.mean())\n",
    "print('모분산\\/\\n : ', scores.var()/n)\n",
    "print('표본평균의 분산 : ', sample_mean.std())\n",
    "print('표본오차 : ', scores.std()/math.sqrt(n))"
   ]
  },
  {
   "cell_type": "code",
   "execution_count": null,
   "id": "630c309e",
   "metadata": {},
   "outputs": [],
   "source": []
  }
 ],
 "metadata": {
  "kernelspec": {
   "display_name": "Python 3 (ipykernel)",
   "language": "python",
   "name": "python3"
  },
  "language_info": {
   "codemirror_mode": {
    "name": "ipython",
    "version": 3
   },
   "file_extension": ".py",
   "mimetype": "text/x-python",
   "name": "python",
   "nbconvert_exporter": "python",
   "pygments_lexer": "ipython3",
   "version": "3.9.12"
  }
 },
 "nbformat": 4,
 "nbformat_minor": 5
}
