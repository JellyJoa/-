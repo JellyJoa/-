{
 "cells": [
  {
   "cell_type": "code",
   "execution_count": 7,
   "id": "5959d341",
   "metadata": {},
   "outputs": [],
   "source": [
    "# page\n",
    "import requests\n",
    "import lxml.html\n",
    "import pandas as pd\n",
    "import sqlite3\n",
    "from pandas.io import sql\n",
    "import os\n",
    "import time\n",
    "\n",
    "def db_save(NEWS_LIST):\n",
    "    with sqlite3.connect(os.path.join('.', 'sqliteDB')) as con:\n",
    "        try:\n",
    "            NEWS_LIST.to_sql(name='NEWS_LIST', con=con, index=False,\n",
    "                            if_exists='append')\n",
    "        except Exception as e:\n",
    "            print(str(e))\n",
    "        print(len(NEWS_LIST), '건 저장완료..')\n",
    "        \n",
    "def db_delete():\n",
    "    with sqlite3.connect(os.path.join('.', 'sqliteDB')) as con:\n",
    "        try:\n",
    "            cur = con.cursor()\n",
    "            sql = 'DELETE FROM NEWS_LIST'\n",
    "            cur.execute(sql)\n",
    "        except Exception as e:\n",
    "            print(str(e))"
   ]
  },
  {
   "cell_type": "code",
   "execution_count": 8,
   "id": "27454848",
   "metadata": {},
   "outputs": [],
   "source": [
    "def db_select():\n",
    "    with sqlite3.connect(os.path.join('.', 'sqliteDB')) as con:\n",
    "        try:\n",
    "            query = 'SELECT * FROM NEWS_LIST'\n",
    "            NEWS_LIST = pd.read_sql(query, con=con)\n",
    "        except Exception as e:\n",
    "            print(str(e))\n",
    "        return NEWS_LIST"
   ]
  },
  {
   "cell_type": "code",
   "execution_count": 9,
   "id": "4790ca29",
   "metadata": {},
   "outputs": [],
   "source": [
    "import re\n",
    "import string\n",
    "\n",
    "def get_detail(url):\n",
    "    body = []\n",
    "    punc = '[!\"#$%&\\'()*+,-./:;<=>?[\\]^_`{|}~“”·]'\n",
    "    response = requests.get(url)\n",
    "    root = lxml.html.fromstring(response.content)\n",
    "    for p in root.xpath('//*[@id=\"harmonyContainer\"]/selection/p'):\n",
    "        if p.text:\n",
    "            body.append(re.sub(punc, '', p.text))\n",
    "    full_body = ' '.join(body)\n",
    "    \n",
    "    return full_body"
   ]
  },
  {
   "cell_type": "code",
   "execution_count": 10,
   "id": "20140daa",
   "metadata": {},
   "outputs": [],
   "source": [
    "page = 58\n",
    "max_page = 0\n",
    "REG_DATE = '20200819'"
   ]
  },
  {
   "cell_type": "code",
   "execution_count": 11,
   "id": "5ff3d407",
   "metadata": {},
   "outputs": [
    {
     "name": "stdout",
     "output_type": "stream",
     "text": [
      "15 건 저장완료..\n",
      "15 건 저장완료..\n",
      "15 건 저장완료..\n",
      "13 건 저장완료..\n"
     ]
    }
   ],
   "source": [
    "while True:\n",
    "    df_list = []\n",
    "    response = requests.get('http://news.daum.net/breakingnews/digital?page={}&regDate={}'\\\n",
    "                           .format(page, REG_DATE))\n",
    "    root = lxml.html.fromstring(response.content)\n",
    "    for li in root.xpath('//*[@id=\"mArticle\"]/div[3]/ul/li'):\n",
    "        a = li.xpath('div/strong/a')[0]\n",
    "        url = a.get('href')\n",
    "        article = get_detail(url)\n",
    "        df = pd.DataFrame({'URL':[url], 'TITLE':[a.text], 'ARTICLE':[article]})\n",
    "        df_list.append(df)\n",
    "        \n",
    "    if df_list:\n",
    "        df_10 = pd.concat(df_list)\n",
    "        db_save(df_10)\n",
    "        \n",
    "    for a in root.xpath('//*[@id=\"mArticle\"]/div[3]/div/span/a'):\n",
    "        try:\n",
    "            num=int(a.text)\n",
    "            if max_page < num:\n",
    "                max_page = num\n",
    "        except Exception as e:\n",
    "            pass\n",
    "    span = root.xpath('//*[@id=\"mArticle\"]/div[3]/div/span/a[@class=\"btn_page btn_next\"]')\n",
    "    \n",
    "    if (len(span) <= 0) & (page > max_page):\n",
    "        break\n",
    "    else:\n",
    "        page = page + 1\n",
    "        \n",
    "    time.sleep(1)"
   ]
  },
  {
   "cell_type": "code",
   "execution_count": 12,
   "id": "acdb349d",
   "metadata": {
    "scrolled": true
   },
   "outputs": [
    {
     "name": "stdout",
     "output_type": "stream",
     "text": [
      "                                        URL  \\\n",
      "0    https://v.daum.net/v/20200819084702255   \n",
      "1    https://v.daum.net/v/20200819084617234   \n",
      "2    https://v.daum.net/v/20200819084529215   \n",
      "3    https://v.daum.net/v/20200819084517208   \n",
      "4    https://v.daum.net/v/20200819084251134   \n",
      "..                                      ...   \n",
      "242  https://v.daum.net/v/20200819030053787   \n",
      "243  https://v.daum.net/v/20200819021530691   \n",
      "244  https://v.daum.net/v/20200819010010384   \n",
      "245  https://v.daum.net/v/20200819004221292   \n",
      "246  https://v.daum.net/v/20200819000017909   \n",
      "\n",
      "                                                 TITLE ARTICLE  \n",
      "0                         에기평, 코로나19 확산 방지 투명칸막이 무상 제공          \n",
      "1                     중국 선전시, 전지역 커버하는 '5G SA' 네트워크 구축          \n",
      "2                    상반기 전세계 모바일게임 지출 42조 돌파..반기 기준 최고          \n",
      "3                5분 충전에 600km 주행 가능..전기車 리튬금속전지 개발 본격화          \n",
      "4                        배달의민족, 비 피해 소상공인에 10만원 포인트 지원          \n",
      "..                                                 ...     ...  \n",
      "242                \"게임에 빠진 아이와 소통하려면..'게임의 룰'부터 파악하세요\"          \n",
      "243  \"재택근무부터 온라인 콘서트까지..코로나19로 모바일이 삶에 뿌리내렸다\"[신무경의 ...          \n",
      "244               보름 앞으로 다가온 반쪽 행사 'IFA 2020'..강행 배경은?          \n",
      "245                    방심위, 진공 청소기 흡입력 오인케한 공영쇼핑에 '주의'          \n",
      "246            [TF초점] 기대 높아진 갤노트20, 상반기 갤S20 부진까지 씻어낼까          \n",
      "\n",
      "[247 rows x 3 columns]\n"
     ]
    }
   ],
   "source": [
    "print(db_select())"
   ]
  }
 ],
 "metadata": {
  "kernelspec": {
   "display_name": "Python 3 (ipykernel)",
   "language": "python",
   "name": "python3"
  },
  "language_info": {
   "codemirror_mode": {
    "name": "ipython",
    "version": 3
   },
   "file_extension": ".py",
   "mimetype": "text/x-python",
   "name": "python",
   "nbconvert_exporter": "python",
   "pygments_lexer": "ipython3",
   "version": "3.9.12"
  }
 },
 "nbformat": 4,
 "nbformat_minor": 5
}
