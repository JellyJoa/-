{
 "cells": [
  {
   "cell_type": "markdown",
   "id": "ca993c12",
   "metadata": {},
   "source": [
    "# 점추정 부분"
   ]
  },
  {
   "cell_type": "code",
   "execution_count": 1,
   "id": "ac515a08",
   "metadata": {},
   "outputs": [],
   "source": [
    "import os\n",
    "import warnings\n",
    "warnings.simplefilter(action='ignore', category=FutureWarning)\n",
    "\n",
    "import pandas as pd\n",
    "import numpy as np\n",
    "import math\n",
    "from scipy import stats\n",
    "\n",
    "import matplotlib.pyplot as plt\n",
    "import seaborn as sns\n",
    "%matplotlib inline\n",
    "\n",
    "if os.name=='nt':\n",
    "    font_family = 'Malgun Gothic'\n",
    "else:\n",
    "    font_family = 'AppleGothic'\n",
    "    \n",
    "sns.set(font=font_family, rc={'axes.unicode_minus' : False})"
   ]
  },
  {
   "cell_type": "code",
   "execution_count": 2,
   "id": "555bc2d5",
   "metadata": {},
   "outputs": [],
   "source": [
    "np.random.seed(10)\n",
    "\n",
    "math_score = pd.DataFrame(np.random.randint(25,101,size=500), columns=['점수'])"
   ]
  },
  {
   "cell_type": "code",
   "execution_count": 3,
   "id": "b9791eb5",
   "metadata": {},
   "outputs": [
    {
     "data": {
      "text/html": [
       "<div>\n",
       "<style scoped>\n",
       "    .dataframe tbody tr th:only-of-type {\n",
       "        vertical-align: middle;\n",
       "    }\n",
       "\n",
       "    .dataframe tbody tr th {\n",
       "        vertical-align: top;\n",
       "    }\n",
       "\n",
       "    .dataframe thead th {\n",
       "        text-align: right;\n",
       "    }\n",
       "</style>\n",
       "<table border=\"1\" class=\"dataframe\">\n",
       "  <thead>\n",
       "    <tr style=\"text-align: right;\">\n",
       "      <th></th>\n",
       "      <th>점수</th>\n",
       "    </tr>\n",
       "  </thead>\n",
       "  <tbody>\n",
       "    <tr>\n",
       "      <th>count</th>\n",
       "      <td>500.00000</td>\n",
       "    </tr>\n",
       "    <tr>\n",
       "      <th>mean</th>\n",
       "      <td>60.88200</td>\n",
       "    </tr>\n",
       "    <tr>\n",
       "      <th>std</th>\n",
       "      <td>22.31816</td>\n",
       "    </tr>\n",
       "    <tr>\n",
       "      <th>min</th>\n",
       "      <td>25.00000</td>\n",
       "    </tr>\n",
       "    <tr>\n",
       "      <th>25%</th>\n",
       "      <td>41.00000</td>\n",
       "    </tr>\n",
       "    <tr>\n",
       "      <th>50%</th>\n",
       "      <td>59.00000</td>\n",
       "    </tr>\n",
       "    <tr>\n",
       "      <th>75%</th>\n",
       "      <td>80.00000</td>\n",
       "    </tr>\n",
       "    <tr>\n",
       "      <th>max</th>\n",
       "      <td>100.00000</td>\n",
       "    </tr>\n",
       "  </tbody>\n",
       "</table>\n",
       "</div>"
      ],
      "text/plain": [
       "              점수\n",
       "count  500.00000\n",
       "mean    60.88200\n",
       "std     22.31816\n",
       "min     25.00000\n",
       "25%     41.00000\n",
       "50%     59.00000\n",
       "75%     80.00000\n",
       "max    100.00000"
      ]
     },
     "execution_count": 3,
     "metadata": {},
     "output_type": "execute_result"
    }
   ],
   "source": [
    "math_score.describe()"
   ]
  },
  {
   "cell_type": "code",
   "execution_count": 4,
   "id": "6820f5bf",
   "metadata": {},
   "outputs": [
    {
     "data": {
      "text/plain": [
       "array([34, 40, 89, 53, 54])"
      ]
     },
     "execution_count": 4,
     "metadata": {},
     "output_type": "execute_result"
    }
   ],
   "source": [
    "scores = np.array(math_score['점수'])\n",
    "scores[:5]"
   ]
  },
  {
   "cell_type": "code",
   "execution_count": 5,
   "id": "6b8fdd10",
   "metadata": {},
   "outputs": [
    {
     "name": "stdout",
     "output_type": "stream",
     "text": [
      "[ 76  73  37  57  47  48  35  28  79  57  40  31  44  52  87 100  33  64\n",
      "  25  41]\n",
      "52.7\n",
      "422.50999999999993\n",
      "20.555048041782825\n"
     ]
    }
   ],
   "source": [
    "sample = np.random.choice(scores, 20)\n",
    "print(sample)\n",
    "print(sample.mean())\n",
    "print(sample.var())\n",
    "print(sample.std())"
   ]
  },
  {
   "cell_type": "code",
   "execution_count": 6,
   "id": "6164b4d0",
   "metadata": {},
   "outputs": [
    {
     "name": "stdout",
     "output_type": "stream",
     "text": [
      "1 표본평균 51.8\n",
      "2 표본평균 64.05\n",
      "3 표본평균 63.0\n",
      "4 표본평균 71.3\n",
      "5 표본평균 67.9\n",
      "6 표본평균 63.75\n",
      "7 표본평균 56.2\n",
      "8 표본평균 66.3\n",
      "9 표본평균 54.7\n",
      "10 표본평균 65.2\n"
     ]
    }
   ],
   "source": [
    "for i in range(10):\n",
    "    sample1 = np.random.choice(scores, 20)\n",
    "    print(i+1, '표본평균', sample1.mean())"
   ]
  },
  {
   "cell_type": "code",
   "execution_count": 7,
   "id": "120fb892",
   "metadata": {},
   "outputs": [
    {
     "data": {
      "image/png": "[encoded data removed]",
      "text/plain": [
       "<Figure size 432x288 with 1 Axes>"
      ]
     },
     "metadata": {},
     "output_type": "display_data"
    }
   ],
   "source": [
    "plt.xlabel('score')\n",
    "plt.ylabel('relative frequency')\n",
    "plt.hist(scores, bins=100, range=(0,100), density=True)\n",
    "plt.xlim(20, 100)\n",
    "plt.show()"
   ]
  },
  {
   "cell_type": "code",
   "execution_count": 8,
   "id": "2d0bac8a",
   "metadata": {},
   "outputs": [
    {
     "data": {
      "image/png": "[encoded data removed]",
      "text/plain": [
       "<Figure size 432x288 with 1 Axes>"
      ]
     },
     "metadata": {},
     "output_type": "display_data"
    }
   ],
   "source": [
    "sample_score = np.random.choice(scores, 10000)\n",
    "\n",
    "plt.hist(sample_score, bins=100, range=(0,100),density=True)\n",
    "plt.xlim(20,100)\n",
    "plt.show()"
   ]
  },
  {
   "cell_type": "code",
   "execution_count": 9,
   "id": "bc2f31c0",
   "metadata": {},
   "outputs": [],
   "source": [
    "n = 20\n",
    "nSample = 100\n",
    "\n",
    "sample_mean = np.array([np.random.choice(scores, n,).mean() for i in range(nSample)])"
   ]
  },
  {
   "cell_type": "code",
   "execution_count": 10,
   "id": "fd5af65c",
   "metadata": {},
   "outputs": [
    {
     "data": {
      "text/plain": [
       "array([62.15, 57.2 , 61.65, 54.05, 57.6 , 64.85, 64.45, 65.35, 54.45,\n",
       "       61.6 , 68.75, 68.85, 66.1 , 62.85, 66.05, 77.15, 58.15, 57.35,\n",
       "       60.85, 60.85, 62.05, 74.2 , 59.15, 62.25, 51.85, 66.5 , 53.65,\n",
       "       63.25, 47.4 , 61.9 , 58.45, 57.2 , 56.75, 60.65, 63.  , 67.9 ,\n",
       "       62.2 , 62.25, 66.2 , 52.85, 69.75, 61.5 , 59.15, 58.3 , 58.9 ,\n",
       "       64.65, 63.55, 58.75, 61.5 , 52.7 , 64.2 , 57.85, 60.15, 60.8 ,\n",
       "       63.25, 55.8 , 61.6 , 64.15, 62.25, 63.55, 62.8 , 57.85, 60.65,\n",
       "       63.1 , 56.7 , 50.35, 58.1 , 64.35, 65.8 , 49.85, 66.  , 58.65,\n",
       "       67.8 , 62.2 , 55.5 , 61.9 , 61.35, 62.35, 57.25, 54.6 , 57.7 ,\n",
       "       53.7 , 65.35, 61.7 , 54.3 , 61.95, 64.55, 61.3 , 54.25, 58.7 ,\n",
       "       66.75, 57.9 , 68.45, 57.9 , 63.25, 62.25, 58.7 , 61.25, 60.4 ,\n",
       "       67.6 ])"
      ]
     },
     "execution_count": 10,
     "metadata": {},
     "output_type": "execute_result"
    }
   ],
   "source": [
    "sample_mean"
   ]
  },
  {
   "cell_type": "code",
   "execution_count": 11,
   "id": "4f006cd8",
   "metadata": {},
   "outputs": [
    {
     "name": "stdout",
     "output_type": "stream",
     "text": [
      "모평균 :  60.882\n",
      "표본평균의 평균 :  60.974000000000004\n",
      "모분산\\/\n",
      " :  24.8552038\n",
      "표본평균의 분산 :  4.946678077255482\n",
      "표본오차 :  4.985499353124018\n"
     ]
    }
   ],
   "source": [
    "print('모평균 : ', scores.mean())\n",
    "print('표본평균의 평균 : ', sample_mean.mean())\n",
    "print('모분산\\/\\n : ', scores.var()/n)\n",
    "print('표본평균의 분산 : ', sample_mean.std())\n",
    "print('표본오차 : ', scores.std()/math.sqrt(n))"
   ]
  },
  {
   "cell_type": "markdown",
   "id": "219abc0a",
   "metadata": {},
   "source": [
    "# 구간추정"
   ]
  },
  {
   "cell_type": "code",
   "execution_count": 12,
   "id": "7a99793e",
   "metadata": {},
   "outputs": [
    {
     "data": {
      "text/plain": [
       "2.093024054408263"
      ]
     },
     "execution_count": 12,
     "metadata": {},
     "output_type": "execute_result"
    }
   ],
   "source": [
    "from scipy.stats import t\n",
    "t_95 = t.ppf(1 - (1-0.95) / 2, df=20-1)\n",
    "t_95"
   ]
  },
  {
   "cell_type": "code",
   "execution_count": 13,
   "id": "d727e72d",
   "metadata": {},
   "outputs": [
    {
     "name": "stdout",
     "output_type": "stream",
     "text": [
      "58.6588833959229\n",
      "63.28911660407711\n",
      "신뢰구간 : 4.630233208154209\n"
     ]
    }
   ],
   "source": [
    "sMean = sample_mean.mean()\n",
    "sStd = sample_mean.std()\n",
    "\n",
    "Low_c = sMean - t_95 * (sStd / math.sqrt(n))\n",
    "Upper_c = sMean + t_95 * (sStd / math.sqrt(n))\n",
    "print(Low_c)\n",
    "print(Upper_c)\n",
    "\n",
    "print(f'신뢰구간 : {Upper_c - Low_c}')"
   ]
  },
  {
   "cell_type": "code",
   "execution_count": 14,
   "id": "9cdc8563",
   "metadata": {},
   "outputs": [
    {
     "name": "stdout",
     "output_type": "stream",
     "text": [
      "모평균 60.882\n",
      "표본평균 56.95\n",
      "모편차 22.295830910733066\n",
      "표본편차 21.941911949508867\n"
     ]
    }
   ],
   "source": [
    "z_n = 30\n",
    "sample1 = np.random.choice(scores, n)\n",
    "z_sMean = sample1.mean()\n",
    "z_sStd = sample1.std()\n",
    "\n",
    "print('모평균', scores.mean())\n",
    "print('표본평균', z_sMean)\n",
    "print('모편차', scores.std())\n",
    "print('표본편차', z_sStd)"
   ]
  },
  {
   "cell_type": "code",
   "execution_count": 15,
   "id": "6cdb3abf",
   "metadata": {},
   "outputs": [],
   "source": [
    "z_95 = stats.norm.ppf(1 - (1-0.95)/2)"
   ]
  },
  {
   "cell_type": "code",
   "execution_count": 16,
   "id": "8d235cfa",
   "metadata": {},
   "outputs": [
    {
     "name": "stdout",
     "output_type": "stream",
     "text": [
      "48.97\n",
      "64.93\n",
      "신뢰구간 : 15.960000000000008\n"
     ]
    }
   ],
   "source": [
    "L_value_1 = round(z_sMean - z_95 * (scores.std()/math.sqrt(z_n)), 2)\n",
    "U_value_1 = round(z_sMean + z_95 * (scores.std()/math.sqrt(z_n)), 2)\n",
    "\n",
    "print(L_value_1)\n",
    "print(U_value_1)\n",
    "\n",
    "print(f'신뢰구간 : {U_value_1 - L_value_1}')"
   ]
  },
  {
   "cell_type": "code",
   "execution_count": 18,
   "id": "01131902",
   "metadata": {},
   "outputs": [
    {
     "name": "stdout",
     "output_type": "stream",
     "text": [
      "신뢰구간 : 203.6 ~ 206.4\n",
      "신뢰구간 길이 : 2.8000000000000114\n",
      "203.6 < 205 < 206.4\n"
     ]
    }
   ],
   "source": [
    "mStd = 5\n",
    "mMean = 205\n",
    "n = 49\n",
    "\n",
    "z_95_1 = stats.norm.ppf(1 - (1-0.95)/2)\n",
    "\n",
    "L_value = round(mMean - z_95_1 * (mStd/math.sqrt(n)),2)\n",
    "U_value = round(mMean + z_95_1 * (mStd/math.sqrt(n)),2)\n",
    "\n",
    "print(f'신뢰구간 : {L_value} ~ {U_value}')\n",
    "print(f'신뢰구간 길이 : {U_value - L_value}')\n",
    "\n",
    "print('{} < {} < {}'.format(L_value, mMean, U_value))"
   ]
  },
  {
   "cell_type": "code",
   "execution_count": 19,
   "id": "d9360869",
   "metadata": {},
   "outputs": [
    {
     "data": {
      "image/png": "[encoded data removed]",
      "text/plain": [
       "<Figure size 432x288 with 1 Axes>"
      ]
     },
     "metadata": {},
     "output_type": "display_data"
    }
   ],
   "source": [
    "standard_norm = stats.norm(205, 20)\n",
    "\n",
    "x = np.linspace(130, 280, 100)\n",
    "\n",
    "plt.vlines(L_value, 0, standard_norm.pdf(L_value), colors=\"b\")\n",
    "plt.vlines(U_value, 0, standard_norm.pdf(U_value), colors=\"b\")\n",
    "plt.plot(x, standard_norm.pdf(x), 'b--', lw=2, alpha=0.6, label='norm pdf')\n",
    "\n",
    "plt.title('신뢰구간 시각화')\n",
    "plt.legend()\n",
    "plt.show()"
   ]
  },
  {
   "cell_type": "code",
   "execution_count": null,
   "id": "686402af",
   "metadata": {},
   "outputs": [],
   "source": []
  },
  {
   "cell_type": "code",
   "execution_count": null,
   "id": "b69671a5",
   "metadata": {},
   "outputs": [],
   "source": []
  },
  {
   "cell_type": "code",
   "execution_count": null,
   "id": "cacc4232",
   "metadata": {},
   "outputs": [],
   "source": []
  }
 ],
 "metadata": {
  "kernelspec": {
   "display_name": "Python 3 (ipykernel)",
   "language": "python",
   "name": "python3"
  },
  "language_info": {
   "codemirror_mode": {
    "name": "ipython",
    "version": 3
   },
   "file_extension": ".py",
   "mimetype": "text/x-python",
   "name": "python",
   "nbconvert_exporter": "python",
   "pygments_lexer": "ipython3",
   "version": "3.9.12"
  }
 },
 "nbformat": 4,
 "nbformat_minor": 5
}
