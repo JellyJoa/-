{
 "cells": [
  {
   "cell_type": "markdown",
   "id": "e2d7168a",
   "metadata": {},
   "source": [
    "## crawler3"
   ]
  },
  {
   "cell_type": "code",
   "execution_count": 1,
   "id": "b092455b",
   "metadata": {},
   "outputs": [],
   "source": [
    "import requests\n",
    "import lxml.html"
   ]
  },
  {
   "cell_type": "code",
   "execution_count": 2,
   "id": "b4b8e945",
   "metadata": {},
   "outputs": [],
   "source": [
    "def main():\n",
    "    session = requests.Session()\n",
    "    response = session.get('http://www.hanbit.co.kr/store/books/new_book_list.html')\n",
    "    urls = scrape_list_page(response)\n",
    "    \n",
    "    for url in urls:\n",
    "        print(url)"
   ]
  },
  {
   "cell_type": "code",
   "execution_count": 3,
   "id": "c8af8bf5",
   "metadata": {},
   "outputs": [
    {
     "name": "stdout",
     "output_type": "stream",
     "text": [
      "https://www.hanbit.co.kr/store/books/look.php?p_code=B3178834938\n",
      "https://www.hanbit.co.kr/store/books/look.php?p_code=B6084607806\n",
      "https://www.hanbit.co.kr/store/books/look.php?p_code=B8948111854\n",
      "https://www.hanbit.co.kr/store/books/look.php?p_code=B8661740335\n",
      "https://www.hanbit.co.kr/store/books/look.php?p_code=B1382037871\n",
      "https://www.hanbit.co.kr/store/books/look.php?p_code=B2847674054\n",
      "https://www.hanbit.co.kr/store/books/look.php?p_code=B4162156367\n",
      "https://www.hanbit.co.kr/store/books/look.php?p_code=B5156679966\n",
      "https://www.hanbit.co.kr/store/books/look.php?p_code=B6189263297\n",
      "https://www.hanbit.co.kr/store/books/look.php?p_code=B4813114979\n",
      "https://www.hanbit.co.kr/store/books/look.php?p_code=B8806843023\n",
      "https://www.hanbit.co.kr/store/books/look.php?p_code=B2859439220\n",
      "https://www.hanbit.co.kr/store/books/look.php?p_code=B1996635146\n",
      "https://www.hanbit.co.kr/store/books/look.php?p_code=B9063949643\n",
      "https://www.hanbit.co.kr/store/books/look.php?p_code=B7400451696\n",
      "https://www.hanbit.co.kr/store/books/look.php?p_code=B6129400746\n",
      "https://www.hanbit.co.kr/store/books/look.php?p_code=B7738896383\n",
      "https://www.hanbit.co.kr/store/books/look.php?p_code=B4354575770\n",
      "https://www.hanbit.co.kr/store/books/look.php?p_code=B1959656080\n",
      "https://www.hanbit.co.kr/store/books/look.php?p_code=B5171715268\n"
     ]
    }
   ],
   "source": [
    "def scrape_list_page(response):\n",
    "    root = lxml.html.fromstring(response.content)\n",
    "    root.make_links_absolute(response.url)\n",
    "    for a in root.cssselect('.view_box .book_tit a'):\n",
    "        url = a.get('href')\n",
    "        yield url\n",
    "        \n",
    "if __name__ == '__main__':\n",
    "    main()"
   ]
  },
  {
   "cell_type": "markdown",
   "id": "949c3fb3",
   "metadata": {},
   "source": [
    "## crawler4"
   ]
  },
  {
   "cell_type": "code",
   "execution_count": 12,
   "id": "83abb0de",
   "metadata": {},
   "outputs": [],
   "source": [
    "import requests\n",
    "import lxml.html\n",
    "\n",
    "def main():\n",
    "    session = requests.Session()\n",
    "    response = session.get('http://www.hanbit.co.kr/store/books/new_book_list.html')\n",
    "    urls = scrape_list_page(response)\n",
    "    for url in urls:\n",
    "        response = session.get(url)\n",
    "        ebook = scrape_detail_page(response)\n",
    "        print(ebook)\n",
    "        break\n",
    "        \n",
    "def scrape_list_page(response):\n",
    "    root = lxml.html.fromstring(response.content)\n",
    "    root.make_links_absolute(response.url)\n",
    "    for a in root.cssselect('.view_box .book_tit a'):\n",
    "        url = a.get('href')\n",
    "        yield url"
   ]
  },
  {
   "cell_type": "code",
   "execution_count": 13,
   "id": "cf04143b",
   "metadata": {},
   "outputs": [
    {
     "name": "stdout",
     "output_type": "stream",
     "text": [
      "{'url': 'https://www.hanbit.co.kr/store/books/look.php?p_code=B3178834938', 'title': '받침 없는 한글 동화 : 4권 세트', 'price': '49,680', 'content': ['', '\\r\\n\\t\\t<1편>\\r\\n', '이렇게 읽어요', '1. 무시무시 마녀가 이사 와!', '2. 아기 고래 뿌우의 노래', '\\xa0', '\\r\\n\\t\\t<2편>\\r\\n', '이렇게 읽어요', '1. 도, 도, 도깨비다!', '2. 느티나무 아파트', '\\xa0', '\\r\\n\\t\\t<3편>\\r\\n', '이렇게 읽어요', '1. 바쁘다 바빠 너구리 바빠', '2. 꼬마 지우개 마구마구', '\\xa0', '\\r\\n\\t\\t<4편>\\r\\n', '이렇게 읽어요', '1. 도깨비 파자마 파티', '2. 꼬마 두루미 뚜루']}\n"
     ]
    }
   ],
   "source": [
    "def scrape_detail_page(response):\n",
    "    root = lxml.html.fromstring(response.content)\n",
    "    ebook = {\n",
    "        'url':response.url,\n",
    "        'title':root.cssselect('.store_product_info_box h3')[0].text_content(),\n",
    "        'price':root.cssselect('.pbr strong')[0].text_content(),\n",
    "        'content':[p.text_content()\\\n",
    "                  for p in root.cssselect('#tabs_3 .hanbit_edit_view p')]\n",
    "    }\n",
    "    return ebook\n",
    "\n",
    "if __name__ == '__main__':\n",
    "    main()"
   ]
  },
  {
   "cell_type": "markdown",
   "id": "f0e446c9",
   "metadata": {},
   "source": [
    "## crawler5"
   ]
  },
  {
   "cell_type": "code",
   "execution_count": 11,
   "id": "d9a9440f",
   "metadata": {},
   "outputs": [
    {
     "name": "stdout",
     "output_type": "stream",
     "text": [
      "{'url': 'https://www.hanbit.co.kr/store/books/look.php?p_code=B3178834938', 'title': '받침 없는 한글 동화 : 4권 세트', 'price': '49,680', 'content': ['<1편>', '이렇게 읽어요', '1. 무시무시 마녀가 이사 와!', '2. 아기 고래 뿌우의 노래', '<2편>', '이렇게 읽어요', '1. 도, 도, 도깨비다!', '2. 느티나무 아파트', '<3편>', '이렇게 읽어요', '1. 바쁘다 바빠 너구리 바빠', '2. 꼬마 지우개 마구마구', '<4편>', '이렇게 읽어요', '1. 도깨비 파자마 파티', '2. 꼬마 두루미 뚜루']}\n"
     ]
    }
   ],
   "source": [
    "import re\n",
    "import requests\n",
    "import lxml.html\n",
    "\n",
    "def main():\n",
    "    session = requests.Session()\n",
    "    response = session.get('http://www.hanbit.co.kr/store/books/new_book_list.html')\n",
    "    urls = scrape_list_page(response)\n",
    "    \n",
    "    for url in urls:\n",
    "        response = session.get(url)\n",
    "        ebook = scrape_detail_page(response)\n",
    "        print(ebook)\n",
    "        break\n",
    "\n",
    "        \n",
    "def scrape_list_page(response):\n",
    "    root = lxml.html.fromstring(response.content)\n",
    "    root.make_links_absolute(response.url)\n",
    "    for a in root.cssselect('.view_box .book_tit a'):\n",
    "        url = a.get('href')\n",
    "        yield url\n",
    "\n",
    "           \n",
    "        \n",
    "def scrape_detail_page(response):\n",
    "    root = lxml.html.fromstring(response.content)\n",
    "    ebook = {\n",
    "        'url':response.url,\n",
    "        'title':root.cssselect('.store_product_info_box h3')[0].text_content(),\n",
    "        'price':root.cssselect('.pbr strong')[0].text_content(),\n",
    "        'content':[normalize_spaces(p.text_content())\n",
    "                  for p in root.cssselect('#tabs_3 .hanbit_edit_view p')\n",
    "                  if normalize_spaces(p.text_content()) != '']\n",
    "    }\n",
    "    return ebook\n",
    "\n",
    "def normalize_spaces(s):\n",
    "    return re.sub(r'\\s+', ' ', s).strip()\n",
    "\n",
    "if __name__ == '__main__':\n",
    "    main()"
   ]
  },
  {
   "cell_type": "markdown",
   "id": "9f0d4e15",
   "metadata": {},
   "source": [
    "## crawler final"
   ]
  },
  {
   "cell_type": "code",
   "execution_count": 17,
   "id": "70de4323",
   "metadata": {},
   "outputs": [],
   "source": [
    "import time\n",
    "import re\n",
    "import requests\n",
    "import lxml.html"
   ]
  },
  {
   "cell_type": "code",
   "execution_count": 23,
   "id": "43aacdc1",
   "metadata": {},
   "outputs": [],
   "source": [
    "def main():\n",
    "    session = requests.Session()\n",
    "    response = session.get('http://www.hanbit.co.kr/store/books/new_book_list.html')\n",
    "    urls = scrape_list_page(response)\n",
    "    for url in urls:\n",
    "        time.sleep(1)\n",
    "        response = session.get(url)\n",
    "        ebook = scrape_detail_page(response)\n",
    "        print(ebook)\n",
    "        break"
   ]
  },
  {
   "cell_type": "code",
   "execution_count": 19,
   "id": "db6e0d61",
   "metadata": {},
   "outputs": [],
   "source": [
    "def scrape_list_page(response):\n",
    "    root = lxml.html.fromstring(response.content)\n",
    "    root.make_links_absolute(response.url)\n",
    "    for a in root.cssselect('.view_box .book_tit a'):\n",
    "        url = a.get('href')\n",
    "        yield url"
   ]
  },
  {
   "cell_type": "code",
   "execution_count": 20,
   "id": "b0acb6f3",
   "metadata": {},
   "outputs": [],
   "source": [
    "def scrape_detail_page(response):\n",
    "    root = lxml.html.fromstring(response.content)\n",
    "    ebook = {\n",
    "        'url':response.url,\n",
    "        'title':root.cssselect('.store_product_info_box h3')[0].text_content(),\n",
    "        'price':root.cssselect('.pbr strong')[0].text_content(),\n",
    "        'content':[normalize_spaces(p.text_content())\n",
    "                  for p in root.cssselect('#tabs_3 .hanbit_edit_view p')\n",
    "                  if normalize_spaces(p.text_content()) != '']\n",
    "    }\n",
    "    return ebook"
   ]
  },
  {
   "cell_type": "code",
   "execution_count": 21,
   "id": "bc1069d2",
   "metadata": {},
   "outputs": [],
   "source": [
    "def normalize_spaces(s):\n",
    "    return re.sub(r'\\s+', ' ', s).strip()"
   ]
  },
  {
   "cell_type": "code",
   "execution_count": 25,
   "id": "b1cc6f1a",
   "metadata": {},
   "outputs": [
    {
     "name": "stdout",
     "output_type": "stream",
     "text": [
      "{'url': 'https://www.hanbit.co.kr/store/books/look.php?p_code=B3178834938', 'title': '받침 없는 한글 동화 : 4권 세트', 'price': '49,680', 'content': ['<1편>', '이렇게 읽어요', '1. 무시무시 마녀가 이사 와!', '2. 아기 고래 뿌우의 노래', '<2편>', '이렇게 읽어요', '1. 도, 도, 도깨비다!', '2. 느티나무 아파트', '<3편>', '이렇게 읽어요', '1. 바쁘다 바빠 너구리 바빠', '2. 꼬마 지우개 마구마구', '<4편>', '이렇게 읽어요', '1. 도깨비 파자마 파티', '2. 꼬마 두루미 뚜루']}\n"
     ]
    }
   ],
   "source": [
    "if __name__ == '__main__':\n",
    "    main()"
   ]
  },
  {
   "cell_type": "code",
   "execution_count": null,
   "id": "8e6564cf",
   "metadata": {},
   "outputs": [],
   "source": []
  }
 ],
 "metadata": {
  "kernelspec": {
   "display_name": "Python 3 (ipykernel)",
   "language": "python",
   "name": "python3"
  },
  "language_info": {
   "codemirror_mode": {
    "name": "ipython",
    "version": 3
   },
   "file_extension": ".py",
   "mimetype": "text/x-python",
   "name": "python",
   "nbconvert_exporter": "python",
   "pygments_lexer": "ipython3",
   "version": "3.9.12"
  }
 },
 "nbformat": 4,
 "nbformat_minor": 5
}
