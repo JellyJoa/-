{
 "cells": [
  {
   "cell_type": "code",
   "execution_count": 1,
   "id": "8016b3a8",
   "metadata": {},
   "outputs": [],
   "source": [
    "import numpy as np\n",
    "import pandas as pd\n",
    "from scipy import stats"
   ]
  },
  {
   "cell_type": "code",
   "execution_count": 2,
   "id": "9009c75e",
   "metadata": {},
   "outputs": [
    {
     "data": {
      "text/html": [
       "<div>\n",
       "<style scoped>\n",
       "    .dataframe tbody tr th:only-of-type {\n",
       "        vertical-align: middle;\n",
       "    }\n",
       "\n",
       "    .dataframe tbody tr th {\n",
       "        vertical-align: top;\n",
       "    }\n",
       "\n",
       "    .dataframe thead th {\n",
       "        text-align: right;\n",
       "    }\n",
       "</style>\n",
       "<table border=\"1\" class=\"dataframe\">\n",
       "  <thead>\n",
       "    <tr style=\"text-align: right;\">\n",
       "      <th></th>\n",
       "      <th>A조</th>\n",
       "      <th>B조</th>\n",
       "      <th>C조</th>\n",
       "      <th>D조</th>\n",
       "    </tr>\n",
       "  </thead>\n",
       "  <tbody>\n",
       "    <tr>\n",
       "      <th>관측빈도</th>\n",
       "      <td>15</td>\n",
       "      <td>35</td>\n",
       "      <td>24</td>\n",
       "      <td>27</td>\n",
       "    </tr>\n",
       "    <tr>\n",
       "      <th>기대빈도</th>\n",
       "      <td>25</td>\n",
       "      <td>25</td>\n",
       "      <td>25</td>\n",
       "      <td>25</td>\n",
       "    </tr>\n",
       "  </tbody>\n",
       "</table>\n",
       "</div>"
      ],
      "text/plain": [
       "      A조  B조  C조  D조\n",
       "관측빈도  15  35  24  27\n",
       "기대빈도  25  25  25  25"
      ]
     },
     "execution_count": 2,
     "metadata": {},
     "output_type": "execute_result"
    }
   ],
   "source": [
    "observed_, expected_ = [15, 35, 24, 27], [25, 25, 25, 25]\n",
    "ct_1 = pd.DataFrame([observed_, expected_], columns=['A조', 'B조', 'C조', 'D조',],\n",
    "                   index=['관측빈도', '기대빈도'])\n",
    "ct_1"
   ]
  },
  {
   "cell_type": "code",
   "execution_count": 3,
   "id": "0185c469",
   "metadata": {},
   "outputs": [],
   "source": [
    "observed = ct_1.loc['관측빈도']\n",
    "expected = ct_1.loc['기대빈도']\n",
    "\n",
    "chi_squared_test = (observed - expected).pow(2)/expected"
   ]
  },
  {
   "cell_type": "code",
   "execution_count": 4,
   "id": "ba7511e1",
   "metadata": {},
   "outputs": [
    {
     "name": "stdout",
     "output_type": "stream",
     "text": [
      "카이제곱 통계량 8.2\n",
      "기각역: 7.814727903251179\n",
      "귀무가설 기각, 4개조의 불량수는 차이가 있다\n",
      "p-value: 0.0420541828949661\n",
      "귀무가설 기각, 4개조의 불량수는 차이가 있다\n"
     ]
    }
   ],
   "source": [
    "chi_squared_statistic = chi_squared_test.sum()\n",
    "print('카이제곱 통계량', chi_squared_statistic)\n",
    "\n",
    "dof = (4-1)*(2-1)\n",
    "chi_ = stats.chi2(dof)\n",
    "chi_05 = chi_.ppf(0.95)\n",
    "print('기각역:', chi_05)\n",
    "\n",
    "if chi_05 >= chi_squared_statistic:\n",
    "    print('귀무가설 채택, 4개조의 불량수는 차이가 없다')\n",
    "else:\n",
    "    print('귀무가설 기각, 4개조의 불량수는 차이가 있다')\n",
    "    \n",
    "p_val = 1-chi_.cdf(chi_squared_statistic)\n",
    "\n",
    "print('p-value:', p_val)\n",
    "\n",
    "if p_val >= 0.05:\n",
    "    print('귀무가설 채택, 4개조의 불량수는 차이가 없다')\n",
    "else:\n",
    "    print('귀무가설 기각, 4개조의 불량수는 차이가 있다')"
   ]
  },
  {
   "cell_type": "code",
   "execution_count": 5,
   "id": "9e9ff1a8",
   "metadata": {},
   "outputs": [
    {
     "ename": "ValueError",
     "evalue": "For each axis slice, the sum of the observed frequencies must agree with the sum of the expected frequencies to a relative tolerance of 1e-08, but the percent differences are:\n0.01",
     "output_type": "error",
     "traceback": [
      "\u001b[1;31m---------------------------------------------------------------------------\u001b[0m",
      "\u001b[1;31mValueError\u001b[0m                                Traceback (most recent call last)",
      "Input \u001b[1;32mIn [5]\u001b[0m, in \u001b[0;36m<cell line: 1>\u001b[1;34m()\u001b[0m\n\u001b[1;32m----> 1\u001b[0m \u001b[43mstats\u001b[49m\u001b[38;5;241;43m.\u001b[39;49m\u001b[43mchisquare\u001b[49m\u001b[43m(\u001b[49m\u001b[43mct_1\u001b[49m\u001b[38;5;241;43m.\u001b[39;49m\u001b[43mloc\u001b[49m\u001b[43m[\u001b[49m\u001b[38;5;124;43m'\u001b[39;49m\u001b[38;5;124;43m관측빈도\u001b[39;49m\u001b[38;5;124;43m'\u001b[39;49m\u001b[43m]\u001b[49m\u001b[38;5;241;43m.\u001b[39;49m\u001b[43mvalues\u001b[49m\u001b[43m,\u001b[49m\u001b[43m \u001b[49m\u001b[43mf_exp\u001b[49m\u001b[38;5;241;43m=\u001b[39;49m\u001b[43mct_1\u001b[49m\u001b[38;5;241;43m.\u001b[39;49m\u001b[43mloc\u001b[49m\u001b[43m[\u001b[49m\u001b[38;5;124;43m'\u001b[39;49m\u001b[38;5;124;43m기대빈도\u001b[39;49m\u001b[38;5;124;43m'\u001b[39;49m\u001b[43m]\u001b[49m\u001b[38;5;241;43m.\u001b[39;49m\u001b[43mvalues\u001b[49m\u001b[43m)\u001b[49m\n",
      "File \u001b[1;32m~\\anaconda3\\lib\\site-packages\\scipy\\stats\\stats.py:6852\u001b[0m, in \u001b[0;36mchisquare\u001b[1;34m(f_obs, f_exp, ddof, axis)\u001b[0m\n\u001b[0;32m   6728\u001b[0m \u001b[38;5;28;01mdef\u001b[39;00m \u001b[38;5;21mchisquare\u001b[39m(f_obs, f_exp\u001b[38;5;241m=\u001b[39m\u001b[38;5;28;01mNone\u001b[39;00m, ddof\u001b[38;5;241m=\u001b[39m\u001b[38;5;241m0\u001b[39m, axis\u001b[38;5;241m=\u001b[39m\u001b[38;5;241m0\u001b[39m):\n\u001b[0;32m   6729\u001b[0m     \u001b[38;5;124;03m\"\"\"Calculate a one-way chi-square test.\u001b[39;00m\n\u001b[0;32m   6730\u001b[0m \n\u001b[0;32m   6731\u001b[0m \u001b[38;5;124;03m    The chi-square test tests the null hypothesis that the categorical data\u001b[39;00m\n\u001b[1;32m   (...)\u001b[0m\n\u001b[0;32m   6850\u001b[0m \n\u001b[0;32m   6851\u001b[0m \u001b[38;5;124;03m    \"\"\"\u001b[39;00m\n\u001b[1;32m-> 6852\u001b[0m     \u001b[38;5;28;01mreturn\u001b[39;00m \u001b[43mpower_divergence\u001b[49m\u001b[43m(\u001b[49m\u001b[43mf_obs\u001b[49m\u001b[43m,\u001b[49m\u001b[43m \u001b[49m\u001b[43mf_exp\u001b[49m\u001b[38;5;241;43m=\u001b[39;49m\u001b[43mf_exp\u001b[49m\u001b[43m,\u001b[49m\u001b[43m \u001b[49m\u001b[43mddof\u001b[49m\u001b[38;5;241;43m=\u001b[39;49m\u001b[43mddof\u001b[49m\u001b[43m,\u001b[49m\u001b[43m \u001b[49m\u001b[43maxis\u001b[49m\u001b[38;5;241;43m=\u001b[39;49m\u001b[43maxis\u001b[49m\u001b[43m,\u001b[49m\n\u001b[0;32m   6853\u001b[0m \u001b[43m                            \u001b[49m\u001b[43mlambda_\u001b[49m\u001b[38;5;241;43m=\u001b[39;49m\u001b[38;5;124;43m\"\u001b[39;49m\u001b[38;5;124;43mpearson\u001b[39;49m\u001b[38;5;124;43m\"\u001b[39;49m\u001b[43m)\u001b[49m\n",
      "File \u001b[1;32m~\\anaconda3\\lib\\site-packages\\scipy\\stats\\stats.py:6694\u001b[0m, in \u001b[0;36mpower_divergence\u001b[1;34m(f_obs, f_exp, ddof, axis, lambda_)\u001b[0m\n\u001b[0;32m   6688\u001b[0m     \u001b[38;5;28;01mif\u001b[39;00m diff_gt_tol:\n\u001b[0;32m   6689\u001b[0m         msg \u001b[38;5;241m=\u001b[39m (\u001b[38;5;124mf\u001b[39m\u001b[38;5;124m\"\u001b[39m\u001b[38;5;124mFor each axis slice, the sum of the observed \u001b[39m\u001b[38;5;124m\"\u001b[39m\n\u001b[0;32m   6690\u001b[0m                \u001b[38;5;124mf\u001b[39m\u001b[38;5;124m\"\u001b[39m\u001b[38;5;124mfrequencies must agree with the sum of the \u001b[39m\u001b[38;5;124m\"\u001b[39m\n\u001b[0;32m   6691\u001b[0m                \u001b[38;5;124mf\u001b[39m\u001b[38;5;124m\"\u001b[39m\u001b[38;5;124mexpected frequencies to a relative tolerance \u001b[39m\u001b[38;5;124m\"\u001b[39m\n\u001b[0;32m   6692\u001b[0m                \u001b[38;5;124mf\u001b[39m\u001b[38;5;124m\"\u001b[39m\u001b[38;5;124mof \u001b[39m\u001b[38;5;132;01m{\u001b[39;00mrtol\u001b[38;5;132;01m}\u001b[39;00m\u001b[38;5;124m, but the percent differences are:\u001b[39m\u001b[38;5;130;01m\\n\u001b[39;00m\u001b[38;5;124m\"\u001b[39m\n\u001b[0;32m   6693\u001b[0m                \u001b[38;5;124mf\u001b[39m\u001b[38;5;124m\"\u001b[39m\u001b[38;5;132;01m{\u001b[39;00mrelative_diff\u001b[38;5;132;01m}\u001b[39;00m\u001b[38;5;124m\"\u001b[39m)\n\u001b[1;32m-> 6694\u001b[0m         \u001b[38;5;28;01mraise\u001b[39;00m \u001b[38;5;167;01mValueError\u001b[39;00m(msg)\n\u001b[0;32m   6696\u001b[0m \u001b[38;5;28;01melse\u001b[39;00m:\n\u001b[0;32m   6697\u001b[0m     \u001b[38;5;66;03m# Ignore 'invalid' errors so the edge case of a data set with length 0\u001b[39;00m\n\u001b[0;32m   6698\u001b[0m     \u001b[38;5;66;03m# is handled without spurious warnings.\u001b[39;00m\n\u001b[0;32m   6699\u001b[0m     \u001b[38;5;28;01mwith\u001b[39;00m np\u001b[38;5;241m.\u001b[39merrstate(invalid\u001b[38;5;241m=\u001b[39m\u001b[38;5;124m'\u001b[39m\u001b[38;5;124mignore\u001b[39m\u001b[38;5;124m'\u001b[39m):\n",
      "\u001b[1;31mValueError\u001b[0m: For each axis slice, the sum of the observed frequencies must agree with the sum of the expected frequencies to a relative tolerance of 1e-08, but the percent differences are:\n0.01"
     ]
    }
   ],
   "source": [
    "stats.chisquare(ct_1.loc['관측빈도'].values, f_exp=ct_1.loc['기대빈도'].values)      # ?!?!?!?!?!?!?!?"
   ]
  },
  {
   "cell_type": "code",
   "execution_count": 6,
   "id": "1d55fc4c",
   "metadata": {},
   "outputs": [
    {
     "data": {
      "text/html": [
       "<div>\n",
       "<style scoped>\n",
       "    .dataframe tbody tr th:only-of-type {\n",
       "        vertical-align: middle;\n",
       "    }\n",
       "\n",
       "    .dataframe tbody tr th {\n",
       "        vertical-align: top;\n",
       "    }\n",
       "\n",
       "    .dataframe thead th {\n",
       "        text-align: right;\n",
       "    }\n",
       "</style>\n",
       "<table border=\"1\" class=\"dataframe\">\n",
       "  <thead>\n",
       "    <tr style=\"text-align: right;\">\n",
       "      <th></th>\n",
       "      <th>영양제</th>\n",
       "      <th>감기여부</th>\n",
       "    </tr>\n",
       "  </thead>\n",
       "  <tbody>\n",
       "    <tr>\n",
       "      <th>0</th>\n",
       "      <td>복용</td>\n",
       "      <td>유</td>\n",
       "    </tr>\n",
       "    <tr>\n",
       "      <th>1</th>\n",
       "      <td>복용</td>\n",
       "      <td>유</td>\n",
       "    </tr>\n",
       "    <tr>\n",
       "      <th>2</th>\n",
       "      <td>복용</td>\n",
       "      <td>유</td>\n",
       "    </tr>\n",
       "    <tr>\n",
       "      <th>3</th>\n",
       "      <td>복용</td>\n",
       "      <td>유</td>\n",
       "    </tr>\n",
       "    <tr>\n",
       "      <th>4</th>\n",
       "      <td>복용</td>\n",
       "      <td>유</td>\n",
       "    </tr>\n",
       "  </tbody>\n",
       "</table>\n",
       "</div>"
      ],
      "text/plain": [
       "  영양제 감기여부\n",
       "0  복용    유\n",
       "1  복용    유\n",
       "2  복용    유\n",
       "3  복용    유\n",
       "4  복용    유"
      ]
     },
     "execution_count": 6,
     "metadata": {},
     "output_type": "execute_result"
    }
   ],
   "source": [
    "cross_data = pd.DataFrame(\n",
    "            {'영양제':['복용', '복용', '복용', '복용', '복용', '복용', '복용', '복용',\n",
    "                       '복용', '복용', '복용', '복용', '복용', '복용', '복용', '복용',\n",
    "                       '복용', '복용', '복용', '복용',\n",
    "                       '미복용', '미복용', '미복용', '미복용', '미복용', '미복용', '미복용', '미복용',\n",
    "                       '미복용', '미복용','미복용', '미복용','미복용', '미복용','미복용', '미복용',\n",
    "                       '미복용', '미복용', '미복용', '미복용'],\n",
    "            '감기여부':['유','유','유','유','유','무','무','무','무','무',\n",
    "                       '무','무','무','무','무','무','무','무','무','무',\n",
    "                       '유','유','유','유','유','유','유','유','유','유',\n",
    "                       '유','유','무','무','무','무','무','무','무','무']})\n",
    "\n",
    "cross_data.head()"
   ]
  },
  {
   "cell_type": "code",
   "execution_count": 7,
   "id": "f9b1761b",
   "metadata": {},
   "outputs": [
    {
     "name": "stdout",
     "output_type": "stream",
     "text": [
      "감기여부   무   유  All\n",
      "영양제              \n",
      "미복용    8  12   20\n",
      "복용    15   5   20\n",
      "All   23  17   40\n"
     ]
    }
   ],
   "source": [
    "print(pd.crosstab(cross_data['영양제'], cross_data['감기여부'], margins=True))\n",
    "\n",
    "data_crosstab = pd.crosstab(cross_data['영양제'], cross_data['감기여부'],\n",
    "                           margins=False)"
   ]
  },
  {
   "cell_type": "code",
   "execution_count": 8,
   "id": "6926b2e2",
   "metadata": {},
   "outputs": [
    {
     "data": {
      "text/html": [
       "<div>\n",
       "<style scoped>\n",
       "    .dataframe tbody tr th:only-of-type {\n",
       "        vertical-align: middle;\n",
       "    }\n",
       "\n",
       "    .dataframe tbody tr th {\n",
       "        vertical-align: top;\n",
       "    }\n",
       "\n",
       "    .dataframe thead th {\n",
       "        text-align: right;\n",
       "    }\n",
       "</style>\n",
       "<table border=\"1\" class=\"dataframe\">\n",
       "  <thead>\n",
       "    <tr style=\"text-align: right;\">\n",
       "      <th>감기여부</th>\n",
       "      <th>무</th>\n",
       "      <th>유</th>\n",
       "    </tr>\n",
       "    <tr>\n",
       "      <th>영양제</th>\n",
       "      <th></th>\n",
       "      <th></th>\n",
       "    </tr>\n",
       "  </thead>\n",
       "  <tbody>\n",
       "    <tr>\n",
       "      <th>미복용</th>\n",
       "      <td>8</td>\n",
       "      <td>12</td>\n",
       "    </tr>\n",
       "    <tr>\n",
       "      <th>복용</th>\n",
       "      <td>15</td>\n",
       "      <td>5</td>\n",
       "    </tr>\n",
       "  </tbody>\n",
       "</table>\n",
       "</div>"
      ],
      "text/plain": [
       "감기여부   무   유\n",
       "영양제         \n",
       "미복용    8  12\n",
       "복용    15   5"
      ]
     },
     "execution_count": 8,
     "metadata": {},
     "output_type": "execute_result"
    }
   ],
   "source": [
    "data_crosstab"
   ]
  },
  {
   "cell_type": "code",
   "execution_count": 9,
   "id": "59e305fa",
   "metadata": {},
   "outputs": [
    {
     "name": "stdout",
     "output_type": "stream",
     "text": [
      "1. 카이제곱 통계량: 5.012787723785166\n",
      "2. p-value: 0.025160759200408785\n",
      "3. df: 1\n",
      "4. 기대값 행렬:\n",
      "         유    무\n",
      "복용   11.5  8.5\n",
      "미복용  11.5  8.5\n",
      "귀무가설 기각, 감기약 복용과 감기 유무는 차이가 있다\n"
     ]
    }
   ],
   "source": [
    "from scipy.stats import chi2_contingency\n",
    "\n",
    "result = chi2_contingency(observed=data_crosstab, correction=False)\n",
    "print('1. 카이제곱 통계량:', result[0])\n",
    "print('2. p-value:', result[1])\n",
    "print('3. df:', result[2])\n",
    "print('4. 기대값 행렬:\\n', pd.DataFrame(result[3]).rename(index={0:'복용',\n",
    "                                                           1:'미복용'}, columns={0:'유', 1:'무'}))\n",
    "\n",
    "if 0.05 >= result[1]:\n",
    "    print('귀무가설 기각, 감기약 복용과 감기 유무는 차이가 있다')\n",
    "else:\n",
    "    print('귀무가설 채택, 감기약 복용과 감기 유무는 차이가 없다')"
   ]
  }
 ],
 "metadata": {
  "kernelspec": {
   "display_name": "Python 3 (ipykernel)",
   "language": "python",
   "name": "python3"
  },
  "language_info": {
   "codemirror_mode": {
    "name": "ipython",
    "version": 3
   },
   "file_extension": ".py",
   "mimetype": "text/x-python",
   "name": "python",
   "nbconvert_exporter": "python",
   "pygments_lexer": "ipython3",
   "version": "3.9.12"
  }
 },
 "nbformat": 4,
 "nbformat_minor": 5
}
