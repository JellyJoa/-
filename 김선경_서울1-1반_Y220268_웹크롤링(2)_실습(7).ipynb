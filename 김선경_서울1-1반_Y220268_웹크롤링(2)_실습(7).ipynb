{
 "cells": [
  {
   "cell_type": "code",
   "execution_count": 1,
   "id": "e794ba4f",
   "metadata": {},
   "outputs": [],
   "source": [
    "from selenium.webdriver import Chrome\n",
    "import time\n",
    "import sqlite3\n",
    "from pandas.io import sql\n",
    "import os\n",
    "import pandas as pd"
   ]
  },
  {
   "cell_type": "code",
   "execution_count": 2,
   "id": "e1fcb8a1",
   "metadata": {},
   "outputs": [],
   "source": [
    "from selenium import webdriver\n",
    "\n",
    "options = webdriver.ChromeOptions()\n",
    "options.add_argument('--start-maximized');\n",
    "\n",
    "browser = webdriver.Chrome('chromedriver', options=options)\n",
    "\n",
    "browser.get('https://www.data.go.kr/')\n",
    "browser.implicitly_wait(5)"
   ]
  },
  {
   "cell_type": "code",
   "execution_count": 4,
   "id": "b2a70f0b",
   "metadata": {},
   "outputs": [],
   "source": [
    "# browser.find_element_by_xpath('//*[@id=\"header\"]/div/div/div/div[2]/div/a[1]').click()\n",
    "# browser.implicity_wait(5)"
   ]
  },
  {
   "cell_type": "code",
   "execution_count": 3,
   "id": "6250dd90",
   "metadata": {},
   "outputs": [],
   "source": [
    "browser.find_element('xpath', '//*[@id=\"header\"]/div/div/div/div[2]/div/a[1]').click()\n",
    "browser.implicitly_wait(5)"
   ]
  },
  {
   "cell_type": "code",
   "execution_count": 6,
   "id": "82242f35",
   "metadata": {},
   "outputs": [],
   "source": [
    "# browser.find_element_by_xpath('//*[@id=\"mberId\"]').send_keys('userID')\n",
    "# browser.find_element_by_xpath('//*[@id=\"pswrd\"]').send_keys('userPW')\n",
    "# browser.find_element_by_xpath('//*[@id=\"loginVo\"]/div[2]/div[2]/div[2]/div/div[1]/button').click()\n",
    "# browser.implicity_wait(5)"
   ]
  },
  {
   "cell_type": "code",
   "execution_count": 4,
   "id": "6ef8543d",
   "metadata": {},
   "outputs": [],
   "source": [
    "browser.find_element('xpath', '//*[@id=\"mberId\"]').send_keys('userID')\n",
    "browser.find_element('xpath','//*[@id=\"pswrd\"]').send_keys('userPW')\n",
    "browser.find_element('xpath','//*[@id=\"loginVo\"]/div[2]/div[2]/div[2]/div/div[1]/button').click()\n",
    "browser.implicitly_wait(5)"
   ]
  },
  {
   "cell_type": "code",
   "execution_count": 5,
   "id": "5332e5df",
   "metadata": {},
   "outputs": [],
   "source": [
    "browser.find_element('xpath', '//*[@id=\"M000400_pc\"]/a').click()"
   ]
  },
  {
   "cell_type": "code",
   "execution_count": 6,
   "id": "1ce22f93",
   "metadata": {},
   "outputs": [],
   "source": [
    "browser.find_element('xpath', '//*[@id=\"M000402_pc\"]/a').click()"
   ]
  },
  {
   "cell_type": "code",
   "execution_count": 7,
   "id": "3cbdd12f",
   "metadata": {},
   "outputs": [],
   "source": [
    "def db_save(ARTICLE_LIST):\n",
    "    with sqlite3.connect(os.path.join('.', 'sqliteDB')) as con:\n",
    "        try:\n",
    "            ARTICLE_LIST.to_sql(name='ARTICLE_LIST', con=con, index=False, if_exists='append')\n",
    "        except Exception as e:\n",
    "            print(str(e))\n",
    "        print(len(ARTICLE_LIST), '건 저장완료..')"
   ]
  },
  {
   "cell_type": "code",
   "execution_count": 19,
   "id": "00d0a650",
   "metadata": {},
   "outputs": [],
   "source": [
    "def db_save(ARTICLE_LIST):\n",
    "    with sqlite3.connect(os.path.join('.','sqliteDB')) as con: # sqlite DB 파일이 존재하지 않는 경우 파일생성\n",
    "        try:\n",
    "            ARTICLE_LIST.to_sql(name = 'ARTICLE_LIST', con = con, index = False, if_exists='append') \n",
    "            #if_exists : {'fail', 'replace', 'append'} default : fail\n",
    "        except Exception as e:\n",
    "            print(str(e))\n",
    "        print(len(ARTICLE_LIST), '건 저장완료..')"
   ]
  },
  {
   "cell_type": "code",
   "execution_count": 8,
   "id": "d2affd60",
   "metadata": {},
   "outputs": [
    {
     "name": "stdout",
     "output_type": "stream",
     "text": [
      "10 건 저장완료..\n"
     ]
    }
   ],
   "source": [
    "trs = browser.find_elements('xpath', '//*[@id=\"searchVO\"]/div[5]/table/tbody/tr')\n",
    "df_list=[]\n",
    "for tr in trs:\n",
    "    df = pd.DataFrame({\n",
    "        'NO':[tr.find_element('xpath', 'td[1]').text],\n",
    "        'TITLE':[tr.find_element('xpath', 'td[2]').text],\n",
    "        'IQRY':[tr.find_element('xpath', 'td[3]').text],\n",
    "        'REGDT':[tr.find_element('xpath', 'td[4]').text],\n",
    "        'CHGDT':[tr.find_element('xpath', 'td[5]').text],\n",
    "    })\n",
    "    df_list.append(df)\n",
    "    \n",
    "ARTICLE_LIST = pd.concat(df_list)\n",
    "db_save(ARTICLE_LIST)"
   ]
  },
  {
   "cell_type": "code",
   "execution_count": 10,
   "id": "33782033",
   "metadata": {},
   "outputs": [],
   "source": [
    "browser.find_element('xpath', '//*[@id=\"searchVO\"]/div[5]/table/tbody/tr[1]/td[2]/a').click()\n",
    "browser.implicitly_wait(3)"
   ]
  },
  {
   "cell_type": "code",
   "execution_count": 11,
   "id": "1edbf360",
   "metadata": {},
   "outputs": [],
   "source": [
    "browser.find_element('xpath', '//*[@id=\"recsroomDetail\"]/div[2]/div[4]/div/a').click()\n",
    "time.sleep(10)"
   ]
  },
  {
   "cell_type": "code",
   "execution_count": 12,
   "id": "d33dccb1",
   "metadata": {},
   "outputs": [],
   "source": [
    "browser.quit()"
   ]
  },
  {
   "cell_type": "code",
   "execution_count": 13,
   "id": "75fd61db",
   "metadata": {},
   "outputs": [],
   "source": [
    "from selenium import webdriver\n",
    "\n",
    "options = webdriver.ChromeOptions()\n",
    "options.add_argument('headless')\n",
    "options.add_argument('disable-gpu')\n",
    "options.add_argument('window-size=1280x1024')\n",
    "\n",
    "browser = webdriver.Chrome('chromedriver', options=options)"
   ]
  },
  {
   "cell_type": "code",
   "execution_count": 14,
   "id": "c852a9c0",
   "metadata": {},
   "outputs": [],
   "source": [
    "browser.get('https://www.data.go.kr/')\n",
    "browser.implicitly_wait(5)"
   ]
  },
  {
   "cell_type": "code",
   "execution_count": 15,
   "id": "bd96c7fa",
   "metadata": {},
   "outputs": [],
   "source": [
    "browser.find_element('xpath', '//*[@id=\"header\"]/div/div/div/div[2]/div/a[1]').click()\n",
    "browser.implicitly_wait(5)"
   ]
  },
  {
   "cell_type": "code",
   "execution_count": 17,
   "id": "96d01a93",
   "metadata": {},
   "outputs": [],
   "source": [
    "browser.find_element('xpath', '//*[@id=\"mberId\"]').send_keys('userID')\n",
    "browser.find_element('xpath','//*[@id=\"pswrd\"]').send_keys('userPW')\n",
    "browser.find_element('xpath','//*[@id=\"loginVo\"]/div[2]/div[2]/div[2]/div/div[1]/button').click()\n",
    "browser.implicitly_wait(5)"
   ]
  },
  {
   "cell_type": "code",
   "execution_count": 19,
   "id": "3b586371",
   "metadata": {},
   "outputs": [],
   "source": [
    "browser.find_element('xpath', '//*[@id=\"M000400_pc\"]/a').click()\n",
    "browser.find_element('xpath', '//*[@id=\"M000402_pc\"]/a').click()"
   ]
  },
  {
   "cell_type": "code",
   "execution_count": 20,
   "id": "0e59ed27",
   "metadata": {},
   "outputs": [],
   "source": [
    "def db_save(ARTICLE_LIST):\n",
    "    with sqlite3.connect(os.path.join('.', 'sqliteDB')) as con:\n",
    "        try:\n",
    "            ARTICLE_LIST.to_sql(name='ARTICLE_LIST', con=con, index=False, if_exists='append')\n",
    "        except Exception as e:\n",
    "            print(str(e))\n",
    "        print(len(ARTICLE_LIST), '건 저장완료..')"
   ]
  },
  {
   "cell_type": "code",
   "execution_count": 21,
   "id": "fde540b8",
   "metadata": {},
   "outputs": [
    {
     "name": "stdout",
     "output_type": "stream",
     "text": [
      "10 건 저장완료..\n"
     ]
    }
   ],
   "source": [
    "trs = browser.find_elements('xpath', '//*[@id=\"searchVO\"]/div[5]/table/tbody/tr')\n",
    "df_list = []\n",
    "for tr in trs:\n",
    "    df = pd.DataFrame({\n",
    "        'NO':[tr.find_element('xpath', 'td[1]').text],\n",
    "        'TITLE':[tr.find_element('xpath', 'td[2]').text],\n",
    "        'IQRY':[tr.find_element('xpath', 'td[3]').text],\n",
    "        'REGDT':[tr.find_element('xpath', 'td[4]').text],\n",
    "        'CHGDT':[tr.find_element('xpath', 'td[5]').text],\n",
    "    })\n",
    "    df_list.append(df)\n",
    "    \n",
    "ARTICLE_LIST = pd.concat(df_list)\n",
    "db_save(ARTICLE_LIST)"
   ]
  },
  {
   "cell_type": "code",
   "execution_count": 22,
   "id": "613ecfaf",
   "metadata": {},
   "outputs": [],
   "source": [
    "browser.find_element('xpath','//*[@id=\"searchVO\"]/div[5]/table/tbody/tr[1]/td[2]/a').click()\n",
    "browser.implicitly_wait(3)"
   ]
  },
  {
   "cell_type": "code",
   "execution_count": 23,
   "id": "5fcbc042",
   "metadata": {},
   "outputs": [],
   "source": [
    "browser.find_element('xpath','//*[@id=\"recsroomDetail\"]/div[2]/div[4]/div/a').click()\n",
    "time.sleep(10)"
   ]
  },
  {
   "cell_type": "code",
   "execution_count": 24,
   "id": "3fee6a71",
   "metadata": {},
   "outputs": [],
   "source": [
    "browser.quit()"
   ]
  }
 ],
 "metadata": {
  "kernelspec": {
   "display_name": "Python 3 (ipykernel)",
   "language": "python",
   "name": "python3"
  },
  "language_info": {
   "codemirror_mode": {
    "name": "ipython",
    "version": 3
   },
   "file_extension": ".py",
   "mimetype": "text/x-python",
   "name": "python",
   "nbconvert_exporter": "python",
   "pygments_lexer": "ipython3",
   "version": "3.9.12"
  }
 },
 "nbformat": 4,
 "nbformat_minor": 5
}
